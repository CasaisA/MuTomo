{
 "cells": [
  {
   "cell_type": "markdown",
   "id": "3249f8bc-6c23-4e5b-b508-f13901b3e43b",
   "metadata": {},
   "source": [
    "# MUON TOMOGRAPHY PRIMER\n",
    "In this notebook I will showcase a couple of studies I made in order to show how muons can be used to investigate the compositions and strucutre of large chunks of material\n",
    "\n",
    "I'm using Geant4 in order to simulate the interaction of particles with matter and doing the leap of faith to consider that \"ground truth\". Whatever limitations that might have down the line is out of the scope of this first study.\n",
    "\n",
    "The first problem I will try to tackle is figuring out the effective density of a column of material using the flux of muons that manage to traverse it end to end. In order to do inference I will rely on the Bethe-Bloch equation: \n",
    "$$\\begin{equation}\n",
    "- \\frac{dE}{dx} = \\rho K z^2 \\frac{Z}{A} \\frac{1}{\\beta^2} \n",
    "\\left[ \\frac{1}{2} \\ln \\left( \\frac{2 m_e c^2 \\beta^2 \\gamma^2 T_{\\text{max}}}{I^2} \\right) - \\beta^2 - \\frac{\\delta}{2} \\right],\n",
    "\\end{equation}\n",
    "$$\n",
    "The last term $\\delta/2$ can really get messy but fort this time I will consider it's assymptotic behaviour:\n",
    "\n",
    "$$ \\frac{\\delta}{2} \\approx \\frac{1}{2} \\left( \\ln \\left( \\frac{\\hbar \\omega_p}{I} \\right) + \\ln(\\gamma^2) - 1 \\right),\n",
    "$$\n",
    "\n",
    "where $\\omega_p$ depends on the density $\\rho$. \n",
    "Which we will see is good enough for this first demostration. \n",
    "\n",
    "The next piece of modelling is the \"range\" or penetration of a muon in a given material which can be approximated with the so-called CSDA range: \n",
    "\n",
    "$$R(E) = \\int_{0}^{E} \\frac{1}{S(E')} \\, dE'$$ \n",
    "\n",
    "(We will also see that this is indeed a rather good approximation to start with! )\n",
    "\n",
    "\n",
    "This function is a bit annoying because it's not defined in closed form, but the good news is that it is monotonic so it can be inverted to obtain the minimum energy that a muon needs in order to penetrate a certain distance $x$ within a material: \n",
    "\n",
    "$$ \\mathcal{E}(x) = R^{-1}(x)$$ \n",
    "\n",
    "In this type of settings calculating the muon momentum would be cool, but it's actually rather complicated/expensive. Good news is that knowing the distribution of momentum is easier and it is well studied. \n",
    "\n",
    "And we come the basic idea that we will put to test. The flux of muons that go through a given material can be written as:\n",
    "\n",
    "$$ \\mathcal{F} = \\int_{E_\\text{min}}^{\\infty} f(E')\\, dE'$$\n",
    "\n",
    "where $E_\\text{min}$ is obtained with our function $\\mathcal{E}(x)$, for this we will need just to plug the material width we want to study!\n",
    "\n",
    "Basically, given a measured flux $\\mathcal{F}_\\mathrm{exp}$ one can obtain infer the density $\\rho$ of the material by inverting the $\\mathcal{F}$ relationship. For that we will make use a well-known minimizer: Minuit.\n",
    "\n",
    "In particular we will use as target a material produced of:\n",
    "60% Standard rock as defined by the NIST, the rest is split between air and water, parametrising the \"saturation\" with $s$, such that: \n",
    "$$\\rho_\\mathrm{eff} = 60\\% \\  \\rho_\\mathrm{Rock} + 40 \\% \\left( s  \\rho_\\mathrm{H_2O}  + (1-s) \\rho_\\mathrm{Air}\\right) $$\n",
    "\n",
    "Provided we can measure the density of our pure rock and that we know the densities of water and air we will be able to learn how much water lies inside our material (or our ore). "
   ]
  },
  {
   "cell_type": "markdown",
   "id": "9ed9ede4-8bec-4ddf-b793-2b89bcd3df8e",
   "metadata": {},
   "source": [
    "First we define our stopping power function"
   ]
  },
  {
   "cell_type": "code",
   "execution_count": 6,
   "id": "1417799a-8a3f-4994-b97f-90005313315f",
   "metadata": {},
   "outputs": [],
   "source": [
    "import numpy as np \n",
    "import scipy\n",
    "from functools import partial"
   ]
  },
  {
   "cell_type": "code",
   "execution_count": 9,
   "id": "a03face8-b436-4c8d-be87-3005e8a8b26a",
   "metadata": {
    "scrolled": true
   },
   "outputs": [],
   "source": [
    "z_a = 0.5\n",
    "n_A = 6.022e23\n",
    "rho = 1.205e-3  # g/cm3\n",
    "p = 3000\n",
    "m = 105.7\n",
    "g2 = (1.44e-15) ** 2\n",
    "def stopping(p, m=105.7, I=1e-4, rho=1):\n",
    "    E = np.sqrt(p**2 + m**2)\n",
    "    n = n_A * z_a * rho  #\n",
    "    gamma = E / m\n",
    "    beta = p / E\n",
    "    beta = np.sqrt(1 - 1 / gamma**2)\n",
    "    K = 0.307\n",
    "    # return 4*np.pi /0.511  * n/beta**2 * g2 * ( np.log(2 *0.511 * beta**2/(I*(1-beta**2))) - beta**2 )\n",
    "    Tmax = (\n",
    "        2 * 0.511 * beta**2 * gamma**2 / (1 + 2 * gamma * 0.511 / m + (0.511 / m) ** 2)\n",
    "    )\n",
    "    ret = K * z_a / beta**2\n",
    "    ret *= (\n",
    "        0.5 * np.log(2 * 0.511 * beta**2 * gamma**2 * Tmax / I**2)\n",
    "        - beta**2\n",
    "        - np.log(28.816 * np.sqrt(rho * z_a) * 1e-6 / I)\n",
    "        - np.log(beta * gamma)\n",
    "        + 1 / 2\n",
    "        + 1 / 8 * Tmax**2 / (gamma * m) ** 2\n",
    "    )\n",
    "    return ret * rho\n",
    "# MeV-1 m-3 MeV**2 m**2 = MeV/m\n",
    "def inv_stopping(*args, **kwargs):\n",
    "    return 1 / stopping(*args, **kwargs)"
   ]
  },
  {
   "cell_type": "markdown",
   "id": "8c55d5a7-5749-48cd-ab19-fdc6a2b8d32d",
   "metadata": {},
   "source": [
    "Right away we can calculate the penetration ranges within air and water:\n",
    "\n",
    "let's find the range $R(E= 10 \\ \\mathrm{GeV};\\text{Water})$\n"
   ]
  },
  {
   "cell_type": "code",
   "execution_count": 10,
   "id": "4697340d-f43f-4826-8451-3b01923b42cc",
   "metadata": {},
   "outputs": [
    {
     "name": "stdout",
     "output_type": "stream",
     "text": [
      "Water 4668.284889284072 4668.284889284072\n"
     ]
    }
   ],
   "source": [
    "pmax = np.sqrt(10000**2 - 105.7**2)\n",
    "rho = 1\n",
    "csda = scipy.integrate.quad(\n",
    "    partial(inv_stopping, m=105.7, I=1e-4, rho=rho), 10, pmax\n",
    ")  # m\n",
    "print(\"Water\", csda[0], csda[0] * rho)  # g cm-2 \n"
   ]
  },
  {
   "cell_type": "markdown",
   "id": "23bb615c-a775-42e5-8545-96fb0d750eb0",
   "metadata": {},
   "source": [
    "We obtain the following value: \n",
    " $R(E= 10 \\ \\mathrm{GeV};\\text{Water}) = 4668 \\ \\mathrm{cm}$ or $4668 \\ \\mathrm{g \\ cm}^{-2}$\n",
    "\n",
    " If we go to the PDG (https://pdg.lbl.gov/2014/AtomicNuclearProperties/MUE/muE_water_liquid.pdf) we see that the tabulated value is a bit smaller: 4279 cm. Here is maybe a good point to talk about the Elephan in the room. There's a lot of parameters other than the density that govern the passage of charged particles through matter. For this study we will keep the ration between the mass number and the atomic number constant to $Z/A = 0.5$ which I think is a good approximation for the type of materials we are studyin. Also, the ionisation energy is set to $I=100\\ \\mathrm{eV}$.  \n",
    " \n",
    " Let's see how far we can get with this.\n"
   ]
  },
  {
   "cell_type": "markdown",
   "id": "6b8145ce-db9e-47e6-aeb9-102964a53c69",
   "metadata": {},
   "source": [
    "Let'see the ranges of the air and rock:"
   ]
  },
  {
   "cell_type": "code",
   "execution_count": 12,
   "id": "88dfbcac-3f63-49a6-931b-d7e0b8a811e2",
   "metadata": {},
   "outputs": [
    {
     "name": "stdout",
     "output_type": "stream",
     "text": [
      "Air 3747.8282195820607\n",
      "Pure Rock 4840.835213684107\n"
     ]
    }
   ],
   "source": [
    "rho = 1.205e-3  # kg/m3\n",
    "csda = scipy.integrate.quad(\n",
    "    partial(inv_stopping, m=105.7, I=1e-4, rho=rho), 10, pmax\n",
    ")  # m\n",
    "print(\"Air\", csda[0] * rho)  # g cm-2\n",
    "rho = 2.65  # kg/m3\n",
    "csda = scipy.integrate.quad(\n",
    "    partial(inv_stopping, m=105.7, I=1e-4, rho=rho), 10, pmax\n",
    ")  # m\n",
    "print(\"Pure Rock\", csda[0] * rho)  # g cm-2\n"
   ]
  },
  {
   "cell_type": "markdown",
   "id": "a4960b38",
   "metadata": {},
   "source": [
    "One can check that the approximation for Rock is much better than air( https://pdg.lbl.gov/2014/AtomicNuclearProperties/MUE/muE_air_dry_1_atm.pdf) ,(https://pdg.lbl.gov/2014/AtomicNuclearProperties/MUE/muE_standard_rock.pdf). The first reason for this is that we are enforcing the asymptotic behaviour of the density effect. We will see though, that this won't stop of us from continuing. We want to check if first principles are enough! "
   ]
  },
  {
   "cell_type": "markdown",
   "id": "eb23e220",
   "metadata": {},
   "source": [
    "Let's assume our muons are beamed onto a cuboid target made of a material as described before, and the goal is to determine the water saturatino $s$. In this first simulation experiment we are beaming muons parallel to our defined $z$ axis onto one of the sides of our homogenous material piece. The width of the material is 10 meters. The energy distribution of these muons is kept simple, a flat distribution between $1 \\ \\mathrm{GeV}$ and $6 \\ \\mathrm{GeV}$. "
   ]
  },
  {
   "cell_type": "code",
   "execution_count": 16,
   "id": "f76e3109",
   "metadata": {},
   "outputs": [
    {
     "name": "stdout",
     "output_type": "stream",
     "text": [
      "Flux = (52.96999999999999 +- 0.2232119665250947 %\n"
     ]
    }
   ],
   "source": [
    "# Lets read in our muons\n",
    "\n",
    "import pandas as pd\n",
    "\n",
    "df = pd.read_csv(\"../input/muons1.txt\", on_bad_lines=\"skip\", header=0)\n",
    "df = df.apply(pd.to_numeric, errors=\"coerce\")\n",
    "n_muons_gen = len(df)\n",
    "# Let's figure out how many made it to the other side of the cube, for that we check how many are stopped and actually have a proper state at z = 7500 \n",
    "df.eval(\"p1 = sqrt(px1**2 + py1**2 + pz1**2)\", inplace=True)\n",
    "df.eval(\"p0 = sqrt(px0**2 + py0**2 + pz0**2)\", inplace=True)\n",
    "df.query(\"p1 > 1 & p0 > 100\", inplace=True)\n",
    "df.query(\"z1 > 1000\", inplace=True)\n",
    "n_muons_pass = len(df)\n",
    "eff = n_muons_pass/n_muons_gen\n",
    "print(f\"Flux = ({100*eff} +- {100* np.sqrt(eff*(1-eff)/n_muons_gen)} %\")"
   ]
  },
  {
   "cell_type": "markdown",
   "id": "75c7062f",
   "metadata": {},
   "source": [
    " Now it's time to figure out what is the composition of our material! For that we will off-hold to minuit the inference of the effective density of our material, together with the saturation of liquid. In my Geant4 simulation I had set a 60% of Rock and a 20% saturation for water. Let's see what do we obtain! (The code to do this generation can be found in src/)\n",
    "\n",
    "  ![](../input/muon.png)"
   ]
  },
  {
   "cell_type": "code",
   "execution_count": null,
   "id": "12556e2f",
   "metadata": {},
   "outputs": [],
   "source": []
  },
  {
   "cell_type": "code",
   "execution_count": 25,
   "id": "50c6f387",
   "metadata": {},
   "outputs": [
    {
     "name": "stdout",
     "output_type": "stream",
     "text": [
      "┌─────────────────────────────────────────────────────────────────────────┐\n",
      "│                                Migrad                                   │\n",
      "├──────────────────────────────────┬──────────────────────────────────────┤\n",
      "│ FCN = 1.085e-05                  │              Nfcn = 48               │\n",
      "│ EDM = 2.82e-05 (Goal: 0.0002)    │            time = 6.9 sec            │\n",
      "├──────────────────────────────────┼──────────────────────────────────────┤\n",
      "│          Valid Minimum           │   Below EDM threshold (goal x 10)    │\n",
      "├──────────────────────────────────┼──────────────────────────────────────┤\n",
      "│      No parameters at limit      │           Below call limit           │\n",
      "├──────────────────────────────────┼──────────────────────────────────────┤\n",
      "│             Hesse ok             │         Covariance accurate          │\n",
      "└──────────────────────────────────┴──────────────────────────────────────┘\n",
      "┌───┬──────┬───────────┬───────────┬────────────┬────────────┬─────────┬─────────┬───────┐\n",
      "│   │ Name │   Value   │ Hesse Err │ Minos Err- │ Minos Err+ │ Limit-  │ Limit+  │ Fixed │\n",
      "├───┼──────┼───────────┼───────────┼────────────┼────────────┼─────────┼─────────┼───────┤\n",
      "│ 0 │ rho  │   1.650   │   0.027   │            │            │   0.1   │    4    │       │\n",
      "└───┴──────┴───────────┴───────────┴────────────┴────────────┴─────────┴─────────┴───────┘\n",
      "┌─────┬──────────┐\n",
      "│     │      rho │\n",
      "├─────┼──────────┤\n",
      "│ rho │ 0.000723 │\n",
      "└─────┴──────────┘\n",
      "Optimal rho: 1.6499933743304374\n",
      "flux(1.6499933743304374) = 0.53\n",
      "Saturation is: 0.22\n"
     ]
    }
   ],
   "source": [
    "from iminuit import Minuit\n",
    "from scipy.interpolate import CubicSpline\n",
    "\n",
    "def distrib(x):\n",
    "    if x < 1000 or x > 6000:\n",
    "        return 0\n",
    "    return 1 / 5000\n",
    "\n",
    "def csda(rho):\n",
    "    ps = np.linspace(1e3, 15e3, 100)  # range of momentum\n",
    "    x = []\n",
    "    for p in ps:\n",
    "        x.append(\n",
    "            scipy.integrate.quad(\n",
    "                partial(inv_stopping, m=105.7, I=1e-4, rho=rho), 00, p\n",
    "            )[0]\n",
    "        )\n",
    "    spl = CubicSpline(ps, x)\n",
    "    inv_spl = CubicSpline(x, ps) \n",
    "    return spl,inv_spl\n",
    "\n",
    "def flux(rho):\n",
    "    _,inv_spl = csda(rho)\n",
    "    return scipy.integrate.quad(distrib,inv_spl(1000),20e3)[0]\n",
    "\n",
    "flux_ref = 0.5306\n",
    "def objective(rho):\n",
    "    return abs(flux(rho)-flux_ref)\n",
    "\n",
    "m = Minuit(objective,rho=1)\n",
    "m.limits[\"rho\"] = (0.1, 4)\n",
    "m.migrad()\n",
    "\n",
    "print(m)\n",
    "# Get the result\n",
    "rho_opt = m.values[\"rho\"]\n",
    "flux_opt = flux(rho_opt)\n",
    "\n",
    "print(f\"Optimal rho: {rho_opt}\")\n",
    "print(f\"flux({rho_opt}) = {flux_opt:.2f}\")\n",
    "\n",
    "rock_ref1 = 2.601 # This is the density value as measure with this same method by setting the saturation to 0!\n",
    "s1 = ((rho_opt -0.6*rock_ref1)/0.4 - 1.205e-3)/(1-1.205e-3)\n",
    "print(f\"Saturation is: {s1:.2f}\")"
   ]
  },
  {
   "cell_type": "markdown",
   "id": "8681bf50",
   "metadata": {},
   "source": [
    " We obtain a final saturation value of 0.22 which indeed is not amazingly accurate but it definetely is close the actual value! \n",
    "\n",
    " Let's wrap here. Hope this was an interesting journey demonstrating with a very simplistic model how it's possible to infer the inner structure of a large chunk of material using cosmic muons. Deviations from reality are numerous, starting with the angular and energy distributions of the incoming muons and following with the numerous simplifications we are assuming for the Bethe-Bloch equation."
   ]
  },
  {
   "cell_type": "markdown",
   "id": "8dddb22a",
   "metadata": {},
   "source": []
  }
 ],
 "metadata": {
  "kernelspec": {
   "display_name": "base",
   "language": "python",
   "name": "python3"
  },
  "language_info": {
   "codemirror_mode": {
    "name": "ipython",
    "version": 3
   },
   "file_extension": ".py",
   "mimetype": "text/x-python",
   "name": "python",
   "nbconvert_exporter": "python",
   "pygments_lexer": "ipython3",
   "version": "3.12.7"
  }
 },
 "nbformat": 4,
 "nbformat_minor": 5
}
